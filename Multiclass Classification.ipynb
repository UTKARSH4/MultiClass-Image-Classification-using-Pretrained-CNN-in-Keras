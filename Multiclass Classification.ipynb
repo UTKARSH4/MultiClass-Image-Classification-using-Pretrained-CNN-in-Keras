{
 "cells": [
  {
   "cell_type": "code",
   "execution_count": 1,
   "metadata": {},
   "outputs": [
    {
     "name": "stdout",
     "output_type": "stream",
     "text": [
      "Found 14034 images belonging to 6 classes.\n"
     ]
    },
    {
     "data": {
      "text/plain": [
       "tensorflow.python.keras.preprocessing.image.DirectoryIterator"
      ]
     },
     "execution_count": 1,
     "metadata": {},
     "output_type": "execute_result"
    }
   ],
   "source": [
    "import keras\n",
    "from tensorflow.keras.models import Model\n",
    "from keras import backend as K\n",
    "from keras.preprocessing.image import ImageDataGenerator\n",
    "from keras.layers import Input, Dropout, Flatten, Conv2D, MaxPooling2D, Dense, Activation, InputLayer,GlobalAveragePooling2D\n",
    "batch_size_train = 20\n",
    "datagen=keras.preprocessing.image.ImageDataGenerator(data_format=K.image_data_format())\n",
    "train_path = '/Users/utkarsh.verma/Downloads/archive/seg_train'\n",
    "classes_required =['buildings','forest','glacier','mountain','sea','street']\n",
    "train_batches = ImageDataGenerator().flow_from_directory(train_path, target_size=(150,150), classes=classes_required, batch_size=batch_size_train)\n",
    "type(train_batches)"
   ]
  },
  {
   "cell_type": "code",
   "execution_count": 2,
   "metadata": {},
   "outputs": [
    {
     "name": "stdout",
     "output_type": "stream",
     "text": [
      "Found 3000 images belonging to 6 classes.\n"
     ]
    }
   ],
   "source": [
    "\n",
    "'''Input the Validation Data\n",
    "'''\n",
    "\n",
    "val_path = '/Users/utkarsh.verma/Downloads/archive/seg_test'\n",
    "val_batches = ImageDataGenerator().flow_from_directory(val_path, target_size=(150,150), classes=classes_required, batch_size = 10 )"
   ]
  },
  {
   "cell_type": "code",
   "execution_count": 3,
   "metadata": {},
   "outputs": [
    {
     "name": "stdout",
     "output_type": "stream",
     "text": [
      "Model: \"functional_1\"\n",
      "_________________________________________________________________\n",
      "Layer (type)                 Output Shape              Param #   \n",
      "=================================================================\n",
      "input_2 (InputLayer)         [(None, None, None, 3)]   0         \n",
      "_________________________________________________________________\n",
      "block1_conv1 (Conv2D)        (None, None, None, 64)    1792      \n",
      "_________________________________________________________________\n",
      "block1_conv2 (Conv2D)        (None, None, None, 64)    36928     \n",
      "_________________________________________________________________\n",
      "block1_pool (MaxPooling2D)   (None, None, None, 64)    0         \n",
      "_________________________________________________________________\n",
      "block2_conv1 (Conv2D)        (None, None, None, 128)   73856     \n",
      "_________________________________________________________________\n",
      "block2_conv2 (Conv2D)        (None, None, None, 128)   147584    \n",
      "_________________________________________________________________\n",
      "block2_pool (MaxPooling2D)   (None, None, None, 128)   0         \n",
      "_________________________________________________________________\n",
      "block3_conv1 (Conv2D)        (None, None, None, 256)   295168    \n",
      "_________________________________________________________________\n",
      "block3_conv2 (Conv2D)        (None, None, None, 256)   590080    \n",
      "_________________________________________________________________\n",
      "block3_conv3 (Conv2D)        (None, None, None, 256)   590080    \n",
      "_________________________________________________________________\n",
      "block3_pool (MaxPooling2D)   (None, None, None, 256)   0         \n",
      "_________________________________________________________________\n",
      "block4_conv1 (Conv2D)        (None, None, None, 512)   1180160   \n",
      "_________________________________________________________________\n",
      "block4_conv2 (Conv2D)        (None, None, None, 512)   2359808   \n",
      "_________________________________________________________________\n",
      "block4_conv3 (Conv2D)        (None, None, None, 512)   2359808   \n",
      "_________________________________________________________________\n",
      "block4_pool (MaxPooling2D)   (None, None, None, 512)   0         \n",
      "_________________________________________________________________\n",
      "block5_conv1 (Conv2D)        (None, None, None, 512)   2359808   \n",
      "_________________________________________________________________\n",
      "block5_conv2 (Conv2D)        (None, None, None, 512)   2359808   \n",
      "_________________________________________________________________\n",
      "block5_conv3 (Conv2D)        (None, None, None, 512)   2359808   \n",
      "_________________________________________________________________\n",
      "block5_pool (MaxPooling2D)   (None, None, None, 512)   0         \n",
      "_________________________________________________________________\n",
      "global_average_pooling2d (Gl (None, 512)               0         \n",
      "_________________________________________________________________\n",
      "dense (Dense)                (None, 1024)              525312    \n",
      "_________________________________________________________________\n",
      "dense_1 (Dense)              (None, 6)                 6150      \n",
      "=================================================================\n",
      "Total params: 15,246,150\n",
      "Trainable params: 15,246,150\n",
      "Non-trainable params: 0\n",
      "_________________________________________________________________\n"
     ]
    }
   ],
   "source": [
    "input_tensor = Input(shape=(150, 150, 3))\n",
    "vgg16_model = keras.applications.vgg16.VGG16(include_top=False, weights='imagenet')\n",
    "x = vgg16_model.output\n",
    "x = GlobalAveragePooling2D()(x)\n",
    "# let's add a fully-connected layer\n",
    "x = Dense(1024, activation='relu')(x)\n",
    "predictions = Dense(6, activation='sigmoid')(x)\n",
    "\n",
    "# this is the model we will train\n",
    "model = Model(inputs=vgg16_model.input, outputs=predictions)\n",
    "model.summary()"
   ]
  },
  {
   "cell_type": "code",
   "execution_count": 4,
   "metadata": {},
   "outputs": [],
   "source": [
    "\n",
    "for layer in vgg16_model.layers: #Since the model is already trained with certain weights, we dont want to change it. Let it be the same\n",
    "    layer.trainable = False"
   ]
  },
  {
   "cell_type": "code",
   "execution_count": 5,
   "metadata": {},
   "outputs": [],
   "source": [
    "# Complie the model\n",
    "from keras.optimizers import Adam\n",
    "model.compile(Adam(lr=.00015), loss='categorical_crossentropy', metrics=['accuracy'])"
   ]
  },
  {
   "cell_type": "code",
   "execution_count": 6,
   "metadata": {},
   "outputs": [
    {
     "name": "stdout",
     "output_type": "stream",
     "text": [
      "WARNING:tensorflow:From <ipython-input-6-418d0a759010>:1: Model.fit_generator (from tensorflow.python.keras.engine.training) is deprecated and will be removed in a future version.\n",
      "Instructions for updating:\n",
      "Please use Model.fit, which supports generators.\n",
      "Epoch 1/10\n",
      "20/20 [==============================] - 38s 2s/step - loss: 1.5483 - accuracy: 0.3525 - val_loss: 1.3257 - val_accuracy: 0.4650\n",
      "Epoch 2/10\n",
      "20/20 [==============================] - 42s 2s/step - loss: 1.1731 - accuracy: 0.5825 - val_loss: 0.9266 - val_accuracy: 0.6350\n",
      "Epoch 3/10\n",
      "20/20 [==============================] - 41s 2s/step - loss: 0.7485 - accuracy: 0.7050 - val_loss: 0.6911 - val_accuracy: 0.7350\n",
      "Epoch 4/10\n",
      "20/20 [==============================] - 42s 2s/step - loss: 0.6362 - accuracy: 0.7450 - val_loss: 0.5259 - val_accuracy: 0.8250\n",
      "Epoch 5/10\n",
      "20/20 [==============================] - 45s 2s/step - loss: 0.5211 - accuracy: 0.8175 - val_loss: 0.5245 - val_accuracy: 0.7900\n",
      "Epoch 6/10\n",
      "20/20 [==============================] - 46s 2s/step - loss: 0.6305 - accuracy: 0.8376 - val_loss: 0.6019 - val_accuracy: 0.7750\n",
      "Epoch 7/10\n",
      "20/20 [==============================] - 45s 2s/step - loss: 0.5212 - accuracy: 0.8275 - val_loss: 0.6566 - val_accuracy: 0.8100\n",
      "Epoch 8/10\n",
      "20/20 [==============================] - 48s 2s/step - loss: 0.4451 - accuracy: 0.8475 - val_loss: 0.4453 - val_accuracy: 0.8800\n",
      "Epoch 9/10\n",
      "20/20 [==============================] - 47s 2s/step - loss: 0.5831 - accuracy: 0.8625 - val_loss: 0.5029 - val_accuracy: 0.8150\n",
      "Epoch 10/10\n",
      "20/20 [==============================] - 48s 2s/step - loss: 0.4985 - accuracy: 0.8675 - val_loss: 0.5106 - val_accuracy: 0.8250\n"
     ]
    },
    {
     "data": {
      "text/plain": [
       "<tensorflow.python.keras.callbacks.History at 0x14536ce50>"
      ]
     },
     "execution_count": 6,
     "metadata": {},
     "output_type": "execute_result"
    }
   ],
   "source": [
    "model.fit_generator(train_batches, steps_per_epoch=20, \n",
    "                    validation_data=val_batches, validation_steps=20, epochs=10, verbose=1)"
   ]
  },
  {
   "cell_type": "code",
   "execution_count": 7,
   "metadata": {},
   "outputs": [],
   "source": [
    "from keras.preprocessing import image\n",
    "import numpy as np\n",
    "val_path = '/Users/utkarsh.verma/Downloads/archive/seg_test/street/24040.jpg'\n",
    "img = image.load_img(val_path, target_size=(150, 150))\n",
    "x = image.img_to_array(img)\n",
    "x = np.expand_dims(x, axis=0)\n",
    "block4_pool_features = model.predict(x)"
   ]
  },
  {
   "cell_type": "code",
   "execution_count": null,
   "metadata": {},
   "outputs": [],
   "source": []
  }
 ],
 "metadata": {
  "kernelspec": {
   "display_name": "Python 3",
   "language": "python",
   "name": "python3"
  },
  "language_info": {
   "codemirror_mode": {
    "name": "ipython",
    "version": 3
   },
   "file_extension": ".py",
   "mimetype": "text/x-python",
   "name": "python",
   "nbconvert_exporter": "python",
   "pygments_lexer": "ipython3",
   "version": "3.8.3"
  }
 },
 "nbformat": 4,
 "nbformat_minor": 4
}
